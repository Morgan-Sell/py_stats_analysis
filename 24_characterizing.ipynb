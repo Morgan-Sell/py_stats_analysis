{
 "cells": [
  {
   "cell_type": "markdown",
   "metadata": {},
   "source": [
    "# Mean, Median, and Mode"
   ]
  },
  {
   "cell_type": "code",
   "execution_count": 6,
   "metadata": {},
   "outputs": [],
   "source": [
    "import numpy as np\n",
    "import matplotlib.pyplot as plt\n",
    "from scipy import stats"
   ]
  },
  {
   "cell_type": "code",
   "execution_count": 7,
   "metadata": {},
   "outputs": [],
   "source": [
    "data = np.loadtxt(\"data/dataset.txt\")"
   ]
  },
  {
   "cell_type": "code",
   "execution_count": 3,
   "metadata": {},
   "outputs": [
    {
     "data": {
      "image/png": "[encoded data removed]",
      "text/plain": [
       "<Figure size 432x288 with 1 Axes>"
      ]
     },
     "metadata": {
      "needs_background": "light"
     },
     "output_type": "display_data"
    }
   ],
   "source": [
    "plt.hist(data);"
   ]
  },
  {
   "cell_type": "markdown",
   "metadata": {},
   "source": [
    "---\n",
    "## Center"
   ]
  },
  {
   "cell_type": "code",
   "execution_count": 13,
   "metadata": {},
   "outputs": [
    {
     "name": "stdout",
     "output_type": "stream",
     "text": [
      "4.0\n"
     ]
    }
   ],
   "source": [
    "def get_mean(xs):\n",
    "    summed = 0\n",
    "    for x in xs:\n",
    "        summed += x\n",
    "    \n",
    "    return summed / len(xs)\n",
    "\n",
    "print(get_mean([3, 5, 2, 6]))"
   ]
  },
  {
   "cell_type": "code",
   "execution_count": 14,
   "metadata": {},
   "outputs": [],
   "source": [
    "mean = np.mean(data)"
   ]
  },
  {
   "cell_type": "markdown",
   "metadata": {},
   "source": [
    "---\n",
    "## Median\n",
    "\n",
    "Medians are not sensitive to outliers. However, means are sensitive to outliers."
   ]
  },
  {
   "cell_type": "code",
   "execution_count": 15,
   "metadata": {},
   "outputs": [
    {
     "name": "stdout",
     "output_type": "stream",
     "text": [
      "4.5\n"
     ]
    }
   ],
   "source": [
    "def get_median(xs):\n",
    "    mid = len(xs) // 2\n",
    "    if len(xs) % 2 == 1:\n",
    "        return sorted(xs)[mid]\n",
    "    else:\n",
    "        return 0.5 * np.sum(sorted(xs)[mid - 1:mid + 1])\n",
    "\n",
    "print(get_median([7, 7, 3, 1, 4, 5]))"
   ]
  },
  {
   "cell_type": "markdown",
   "metadata": {},
   "source": [
    "---\n",
    "## Mode\n",
    "\n",
    "The mode is not sensitive to outliers."
   ]
  },
  {
   "cell_type": "code",
   "execution_count": 16,
   "metadata": {},
   "outputs": [
    {
     "name": "stdout",
     "output_type": "stream",
     "text": [
      "3\n"
     ]
    }
   ],
   "source": [
    "def get_mode(xs):\n",
    "    values, counts = np.unique(xs, return_counts=True)\n",
    "    max_count_idx = np.argmax(counts)\n",
    "    return values[max_count_idx]\n",
    "\n",
    "print(get_mode([1, 7, 2, 5, 3, 3, 8, 3, 2]))"
   ]
  },
  {
   "cell_type": "code",
   "execution_count": 17,
   "metadata": {},
   "outputs": [
    {
     "name": "stdout",
     "output_type": "stream",
     "text": [
      "5.41347135\n"
     ]
    }
   ],
   "source": [
    "hist, edges = np.histogram(data, bins=10000)\n",
    "edge_centers = 0.5 * (edges[1:] + edges[:-1])\n",
    "mode = edge_centers[hist.argmax()]\n",
    "print(mode)"
   ]
  },
  {
   "cell_type": "code",
   "execution_count": 21,
   "metadata": {},
   "outputs": [
    {
     "ename": "TypeError",
     "evalue": "_linspace_dispatcher() missing 2 required positional arguments: 'start' and 'stop'",
     "output_type": "error",
     "traceback": [
      "\u001b[0;31m---------------------------------------------------------------------------\u001b[0m",
      "\u001b[0;31mTypeError\u001b[0m                                 Traceback (most recent call last)",
      "\u001b[0;32m<ipython-input-21-66e14d467be9>\u001b[0m in \u001b[0;36m<module>\u001b[0;34m\u001b[0m\n\u001b[1;32m      1\u001b[0m \u001b[0mkde\u001b[0m \u001b[0;34m=\u001b[0m \u001b[0mstats\u001b[0m\u001b[0;34m.\u001b[0m\u001b[0mgaussian_kde\u001b[0m\u001b[0;34m(\u001b[0m\u001b[0mdata\u001b[0m\u001b[0;34m)\u001b[0m\u001b[0;34m\u001b[0m\u001b[0;34m\u001b[0m\u001b[0m\n\u001b[0;32m----> 2\u001b[0;31m \u001b[0mx_vals\u001b[0m \u001b[0;34m=\u001b[0m \u001b[0mnp\u001b[0m\u001b[0;34m.\u001b[0m\u001b[0mlinspace\u001b[0m\u001b[0;34m(\u001b[0m\u001b[0;34m)\u001b[0m\u001b[0;34m\u001b[0m\u001b[0;34m\u001b[0m\u001b[0m\n\u001b[0m",
      "\u001b[0;32m<__array_function__ internals>\u001b[0m in \u001b[0;36mlinspace\u001b[0;34m(*args, **kwargs)\u001b[0m\n",
      "\u001b[0;31mTypeError\u001b[0m: _linspace_dispatcher() missing 2 required positional arguments: 'start' and 'stop'"
     ]
    }
   ],
   "source": [
    "kde = stats.gaussian_kde(data)\n",
    "x_vals = np.linspace()"
   ]
  },
  {
   "cell_type": "markdown",
   "metadata": {},
   "source": [
    "---\n",
    "## Variance\n",
    "\n",
    "The variance of a distribution is a measure of how much the distribution spreads out around the mean. A more formal definition is that it is the expected value of the squared deviation from the mean"
   ]
  },
  {
   "cell_type": "code",
   "execution_count": 22,
   "metadata": {},
   "outputs": [
    {
     "name": "stdout",
     "output_type": "stream",
     "text": [
      "2.5\n"
     ]
    }
   ],
   "source": [
    "def get_variance(xs):\n",
    "    mean = np.mean(xs)\n",
    "    summed = 0\n",
    "    for x in xs:\n",
    "        summed += (x - mean)**2\n",
    "    return summed / (len(xs) - 1)\n",
    "\n",
    "print(get_variance([1, 2, 3, 4, 5]))"
   ]
  },
  {
   "cell_type": "code",
   "execution_count": 23,
   "metadata": {},
   "outputs": [
    {
     "name": "stdout",
     "output_type": "stream",
     "text": [
      "13.137626632694301\n"
     ]
    }
   ],
   "source": [
    "variance = np.var(data, ddof=1)\n",
    "print(variance)"
   ]
  },
  {
   "cell_type": "markdown",
   "metadata": {},
   "source": [
    "---\n",
    "## Standard Deviation"
   ]
  },
  {
   "cell_type": "code",
   "execution_count": 24,
   "metadata": {},
   "outputs": [
    {
     "name": "stdout",
     "output_type": "stream",
     "text": [
      "3.6244414221454435 13.136575622563685\n"
     ]
    }
   ],
   "source": [
    "std = np.std(data)\n",
    "\n",
    "print(std, std **2)"
   ]
  },
  {
   "cell_type": "markdown",
   "metadata": {},
   "source": [
    "---\n",
    "## Gaussian / Normal Approximation\n",
    "\n",
    "Use the mean and the standard deviation to dervive the Guassian Approximation"
   ]
  },
  {
   "cell_type": "code",
   "execution_count": 25,
   "metadata": {},
   "outputs": [
    {
     "data": {
      "image/png": "[encoded data removed]",
      "text/plain": [
       "<Figure size 720x360 with 1 Axes>"
      ]
     },
     "metadata": {
      "needs_background": "light"
     },
     "output_type": "display_data"
    }
   ],
   "source": [
    "xs = np.linspace(data.min(), data.max(), 100)\n",
    "ys = stats.norm.pdf(xs, loc=mean, scale=std)\n",
    "\n",
    "plt.figure(figsize=(10,5))\n",
    "plt.hist(data, bins=50, density=True, histtype=\"step\", label=\"Data\")\n",
    "plt.plot(xs, ys, label=\"Normal Approximation\")\n",
    "plt.legend()\n",
    "plt.ylabel(\"Probability\");"
   ]
  },
  {
   "cell_type": "markdown",
   "metadata": {},
   "source": [
    "---\n",
    "## Skewness\n",
    "\n",
    "**Skewness** is the cubic distance from the mean normalized to some value related to the variance of the distribution.\n",
    "\n",
    "It is a measure of the asymmetry."
   ]
  },
  {
   "cell_type": "code",
   "execution_count": 26,
   "metadata": {},
   "outputs": [],
   "source": [
    "def get_skewness(xs):\n",
    "    mean = np.mean(xs)\n",
    "    var = np.var(xs)\n",
    "    summed = 0\n",
    "    for x in xs:\n",
    "        summed += (x - mean) ** 3\n",
    "    return (summed / len(xs)) / (var ** 1.5)"
   ]
  },
  {
   "cell_type": "code",
   "execution_count": 27,
   "metadata": {},
   "outputs": [
    {
     "name": "stdout",
     "output_type": "stream",
     "text": [
      "0.0\n"
     ]
    }
   ],
   "source": [
    "# Symmetric distribution should have 0 skewness\n",
    "\n",
    "print(get_skewness([1, 2, 3, 4, 5]))"
   ]
  },
  {
   "cell_type": "code",
   "execution_count": 28,
   "metadata": {},
   "outputs": [
    {
     "name": "stdout",
     "output_type": "stream",
     "text": [
      "0.7408773663373577 0.7408773663373582\n"
     ]
    }
   ],
   "source": [
    "skewness = stats.skew(data)\n",
    "\n",
    "print(skewness, get_skewness(data))"
   ]
  },
  {
   "cell_type": "code",
   "execution_count": 29,
   "metadata": {},
   "outputs": [
    {
     "data": {
      "image/png": "[encoded data removed]",
      "text/plain": [
       "<Figure size 720x360 with 1 Axes>"
      ]
     },
     "metadata": {
      "needs_background": "light"
     },
     "output_type": "display_data"
    }
   ],
   "source": [
    "xs = np.linspace(data.min(), data.max(), 100)\n",
    "ys1 = stats.norm.pdf(xs, loc=mean, scale=std)\n",
    "ys2 = stats.skewnorm.pdf(xs, skewness, loc=mean, scale=std)\n",
    "\n",
    "plt.figure(figsize=(10,5))\n",
    "plt.hist(data, bins=50, density=True, histtype=\"step\", label=\"Data\")\n",
    "plt.plot(xs, ys1, label=\"Normal Approximation\")\n",
    "plt.plot(xs, ys2, label=\"Skewnormal Approximation\")\n",
    "plt.legend()\n",
    "plt.ylabel(\"Probability\");"
   ]
  },
  {
   "cell_type": "markdown",
   "metadata": {},
   "source": [
    "Skewnormal is a less appropriate approximation. The cause is due the skewness changing the mean. Must input the mean that correct for the skewness."
   ]
  },
  {
   "cell_type": "markdown",
   "metadata": {},
   "source": [
    "#### Use SciPy to fix the problem caused by skewness"
   ]
  },
  {
   "cell_type": "code",
   "execution_count": 30,
   "metadata": {},
   "outputs": [
    {
     "data": {
      "image/png": "[encoded data removed]",
      "text/plain": [
       "<Figure size 720x360 with 1 Axes>"
      ]
     },
     "metadata": {
      "needs_background": "light"
     },
     "output_type": "display_data"
    }
   ],
   "source": [
    "xs = np.linspace(data.min(), data.max(), 100)\n",
    "ys1 = stats.norm.pdf(xs, loc=mean, scale=std)\n",
    "ps = stats.skewnorm.fit(data)\n",
    "ys2 = stats.skewnorm.pdf(xs, *ps)\n",
    "\n",
    "plt.figure(figsize=(10,5))\n",
    "plt.hist(data, bins=50, density=True, histtype=\"step\", label=\"Data\")\n",
    "plt.plot(xs, ys1, label=\"Normal Approximation\")\n",
    "plt.plot(xs, ys2, label=\"Skewnormal Approximation\")\n",
    "plt.legend()\n",
    "plt.ylabel(\"Probability\");"
   ]
  },
  {
   "cell_type": "markdown",
   "metadata": {},
   "source": [
    "---\n",
    "## Kurtosis\n",
    "\n",
    "Less a measure of the asymmetry of the information. More appropriately used to encapsulate the data's information/distribution."
   ]
  },
  {
   "cell_type": "code",
   "execution_count": 34,
   "metadata": {},
   "outputs": [],
   "source": [
    "def get_kurtosis(xs):\n",
    "    mean = np.mean(xs)\n",
    "    var = np.var(xs)\n",
    "    summed = 0\n",
    "    for x in xs:\n",
    "        summed += (x - mean)**4\n",
    "    return (summed / len(xs)) / (var ** 2)"
   ]
  },
  {
   "cell_type": "code",
   "execution_count": 35,
   "metadata": {},
   "outputs": [
    {
     "name": "stdout",
     "output_type": "stream",
     "text": [
      "1.7\n"
     ]
    }
   ],
   "source": [
    "print(get_kurtosis([1, 2, 3, 4, 5]))"
   ]
  },
  {
   "cell_type": "code",
   "execution_count": 33,
   "metadata": {},
   "outputs": [
    {
     "name": "stdout",
     "output_type": "stream",
     "text": [
      "3.551753849730955 0.5517538497309498\n"
     ]
    }
   ],
   "source": [
    "# fisher normalizes the distribution\n",
    "# Kertosis of a normal distribution equals 3.\n",
    "kurtosis = stats.kurtosis(data, fisher=False)\n",
    "print(get_kurtosis(data), kurtosis)"
   ]
  },
  {
   "cell_type": "code",
   "execution_count": null,
   "metadata": {},
   "outputs": [],
   "source": []
  }
 ],
 "metadata": {
  "kernelspec": {
   "display_name": "Python 3",
   "language": "python",
   "name": "python3"
  },
  "language_info": {
   "codemirror_mode": {
    "name": "ipython",
    "version": 3
   },
   "file_extension": ".py",
   "mimetype": "text/x-python",
   "name": "python",
   "nbconvert_exporter": "python",
   "pygments_lexer": "ipython3",
   "version": "3.8.5"
  }
 },
 "nbformat": 4,
 "nbformat_minor": 4
}
